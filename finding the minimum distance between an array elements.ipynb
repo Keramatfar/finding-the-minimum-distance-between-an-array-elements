{
 "cells": [
  {
   "cell_type": "code",
   "execution_count": 93,
   "metadata": {},
   "outputs": [],
   "source": [
    "import numpy as np\n",
    "import time\n",
    "nums = list(set(np.random.randint(10000,size=5000)))"
   ]
  },
  {
   "cell_type": "code",
   "execution_count": 94,
   "metadata": {},
   "outputs": [
    {
     "name": "stdout",
     "output_type": "stream",
     "text": [
      "4.515161752700806 1\n"
     ]
    }
   ],
   "source": [
    "tick = time.time()\n",
    "min_ = abs(nums[0]-nums[1])\n",
    "for i in range(len(nums)):\n",
    "    for j in range(len(nums)):\n",
    "        if abs(nums[i]-nums[j])<min_ and i!=j:\n",
    "            min_ = abs(nums[i]-nums[j])\n",
    "tack = time.time()\n",
    "print(tack-tick, min_)"
   ]
  },
  {
   "cell_type": "code",
   "execution_count": 95,
   "metadata": {},
   "outputs": [
    {
     "name": "stdout",
     "output_type": "stream",
     "text": [
      "0.001995086669921875 1\n"
     ]
    }
   ],
   "source": [
    "tick = time.time()\n",
    "sorted_ = sorted(nums)\n",
    "min_ = abs(nums[0]-nums[1])\n",
    "for i in range(len(sorted_)-1):\n",
    "    c = sorted_[i+1] - sorted_[i]\n",
    "    if c < min_:\n",
    "        min_ = c\n",
    "tack = time.time()\n",
    "print(tack-tick, min_)"
   ]
  }
 ],
 "metadata": {
  "kernelspec": {
   "display_name": "Python 3",
   "language": "python",
   "name": "python3"
  },
  "language_info": {
   "codemirror_mode": {
    "name": "ipython",
    "version": 3
   },
   "file_extension": ".py",
   "mimetype": "text/x-python",
   "name": "python",
   "nbconvert_exporter": "python",
   "pygments_lexer": "ipython3",
   "version": "3.7.4"
  }
 },
 "nbformat": 4,
 "nbformat_minor": 4
}
